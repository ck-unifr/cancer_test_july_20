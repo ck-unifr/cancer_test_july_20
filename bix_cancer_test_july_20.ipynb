{
 "cells": [
  {
   "cell_type": "code",
   "execution_count": null,
   "metadata": {},
   "outputs": [],
   "source": []
  },
  {
   "cell_type": "markdown",
   "metadata": {},
   "source": [
    "1. Perform an exploratory data analysis\n",
    "    - What are the abnormalities in the data?\n",
    "    - Are there any interesting, perhaps unexpected relationships to be found?\n",
    "\n",
    "1. Create a model for predicting the cancer_type\n",
    "    - Select an appropriate model and keep its complexity reasonable (number of used features, etc.)\n",
    "    \n",
    "    - I would like you to send me a submission.csv for the cases in test_data.csv at least on hour before the interview that includes the prediction of the cancer_type of your model. The cases should be in the same order as in the test_data.csv and should only contain the label of the predicted cancer_type. See the sample_submission.csv for format clarification.\n",
    "\n",
    "1. Build a regression model for predicting radius_2 based on perimeter_1\n",
    "    - the model should be able to quantify its prediction reliability, e.g. density estimates, etc. (please do not just use the outputted R^2 or confidence interval estimates of typical linear regression packages fitting results)\n",
    "    - prepare a visualization that illustrates possible prediction uncertainties\n"
   ]
  },
  {
   "cell_type": "code",
   "execution_count": null,
   "metadata": {},
   "outputs": [],
   "source": []
  },
  {
   "cell_type": "code",
   "execution_count": null,
   "metadata": {},
   "outputs": [],
   "source": []
  },
  {
   "cell_type": "code",
   "execution_count": 1,
   "metadata": {},
   "outputs": [
    {
     "name": "stderr",
     "output_type": "stream",
     "text": [
      "/Users/kai/opt/anaconda3/lib/python3.7/site-packages/lightgbm/__init__.py:48: UserWarning: Starting from version 2.2.1, the library file in distribution wheels for macOS is built by the Apple Clang (Xcode_8.3.3) compiler.\n",
      "This means that in case of installing LightGBM from PyPI via the ``pip install lightgbm`` command, you don't need to install the gcc compiler anymore.\n",
      "Instead of that, you need to install the OpenMP library, which is required for running LightGBM on the system with the Apple Clang compiler.\n",
      "You can install the OpenMP library by the following command: ``brew install libomp``.\n",
      "  \"You can install the OpenMP library by the following command: ``brew install libomp``.\", UserWarning)\n"
     ]
    }
   ],
   "source": [
    "import time\n",
    "\n",
    "# data processing library\n",
    "import numpy as np\n",
    "import pandas as pd\n",
    "from functools import reduce\n",
    "import collections\n",
    "\n",
    "# data visualization library  \n",
    "import seaborn as sns \n",
    "import matplotlib.pyplot as plt\n",
    "%matplotlib inline\n",
    "import scipy.stats as stats\n",
    "\n",
    "# feature engineering library\n",
    "from feature_engine.outlier_removers import Winsorizer\n",
    "\n",
    "# machine learning library\n",
    "from sklearn import preprocessing\n",
    "from sklearn.linear_model import LinearRegression, LogisticRegression \n",
    "from sklearn.ensemble import RandomForestClassifier, GradientBoostingClassifier, StackingClassifier\n",
    "\n",
    "from sklearn.metrics import classification_report, confusion_matrix, f1_score\n",
    "\n",
    "from sklearn import model_selection\n",
    "from sklearn.model_selection import KFold, RepeatedStratifiedKFold, train_test_split\n",
    "from sklearn.model_selection import cross_val_score\n",
    "from sklearn.model_selection import GridSearchCV, RandomizedSearchCV\n",
    "\n",
    "from sklearn import preprocessing\n",
    "from sklearn.metrics import average_precision_score, auc, roc_curve, precision_recall_curve\n",
    "from sklearn.metrics import mean_absolute_error, mean_squared_error, mean_squared_log_error\n",
    "\n",
    "# gradient boosting machine \n",
    "import lightgbm as lgbm\n",
    "\n",
    "# feature analysis\n",
    "import shap\n",
    "\n",
    "# oversampling imbalanced datasets\n",
    "from imblearn.over_sampling import SMOTE\n",
    "\n",
    "import warnings\n",
    "warnings.filterwarnings(\"ignore\")\n"
   ]
  },
  {
   "cell_type": "markdown",
   "metadata": {},
   "source": [
    "# Perform an exploratory data analysis\n",
    "\n",
    "- What are the abnormalities in the data?\n",
    "\n",
    "- Are there any interesting, perhaps unexpected relationships to be found?\n",
    "    \n"
   ]
  },
  {
   "cell_type": "code",
   "execution_count": null,
   "metadata": {},
   "outputs": [],
   "source": []
  },
  {
   "cell_type": "markdown",
   "metadata": {},
   "source": [
    "## Data processing\n"
   ]
  },
  {
   "cell_type": "code",
   "execution_count": 3,
   "metadata": {},
   "outputs": [],
   "source": [
    "train_file = 'train_data.csv'\n",
    "test_file = 'test_data.csv'\n",
    "sample_submission_file = 'sample_submission.csv'\n"
   ]
  },
  {
   "cell_type": "code",
   "execution_count": 4,
   "metadata": {},
   "outputs": [],
   "source": [
    "df_train = pd.read_csv(train_file)\n",
    "df_test = pd.read_csv(test_file)\n",
    "df_sample_submission = pd.read_csv(sample_submission_file)\n"
   ]
  },
  {
   "cell_type": "code",
   "execution_count": 5,
   "metadata": {},
   "outputs": [
    {
     "data": {
      "text/html": [
       "<div>\n",
       "<style scoped>\n",
       "    .dataframe tbody tr th:only-of-type {\n",
       "        vertical-align: middle;\n",
       "    }\n",
       "\n",
       "    .dataframe tbody tr th {\n",
       "        vertical-align: top;\n",
       "    }\n",
       "\n",
       "    .dataframe thead th {\n",
       "        text-align: right;\n",
       "    }\n",
       "</style>\n",
       "<table border=\"1\" class=\"dataframe\">\n",
       "  <thead>\n",
       "    <tr style=\"text-align: right;\">\n",
       "      <th></th>\n",
       "      <th>radius_0</th>\n",
       "      <th>texture_0</th>\n",
       "      <th>perimeter_0</th>\n",
       "      <th>radius_1</th>\n",
       "      <th>texture_1</th>\n",
       "      <th>perimeter_1</th>\n",
       "      <th>radius_2</th>\n",
       "      <th>texture_2</th>\n",
       "      <th>perimeter_2</th>\n",
       "      <th>age</th>\n",
       "      <th>treatment_date</th>\n",
       "      <th>diagnose_date</th>\n",
       "      <th>cancer_type</th>\n",
       "    </tr>\n",
       "  </thead>\n",
       "  <tbody>\n",
       "    <tr>\n",
       "      <th>0</th>\n",
       "      <td>19.858394</td>\n",
       "      <td>27.204437</td>\n",
       "      <td>136.324256</td>\n",
       "      <td>22.683290</td>\n",
       "      <td>32.802578</td>\n",
       "      <td>119.523841</td>\n",
       "      <td>21.477052</td>\n",
       "      <td>27.3070874472</td>\n",
       "      <td>82.366936</td>\n",
       "      <td>44</td>\n",
       "      <td>2006-06-03</td>\n",
       "      <td>2005-10-23</td>\n",
       "      <td>0</td>\n",
       "    </tr>\n",
       "    <tr>\n",
       "      <th>1</th>\n",
       "      <td>14.182069</td>\n",
       "      <td>15.754730</td>\n",
       "      <td>80.916983</td>\n",
       "      <td>14.043753</td>\n",
       "      <td>30.094704</td>\n",
       "      <td>94.911073</td>\n",
       "      <td>15.012329</td>\n",
       "      <td>17.8551305385</td>\n",
       "      <td>103.078286</td>\n",
       "      <td>59</td>\n",
       "      <td>2004-02-22</td>\n",
       "      <td>2007-08-20</td>\n",
       "      <td>1</td>\n",
       "    </tr>\n",
       "    <tr>\n",
       "      <th>2</th>\n",
       "      <td>25.380268</td>\n",
       "      <td>21.291553</td>\n",
       "      <td>152.281062</td>\n",
       "      <td>23.852166</td>\n",
       "      <td>46.237931</td>\n",
       "      <td>NaN</td>\n",
       "      <td>28.563252</td>\n",
       "      <td>21.0971528265</td>\n",
       "      <td>143.367792</td>\n",
       "      <td>37</td>\n",
       "      <td>2006-01-06</td>\n",
       "      <td>2004-08-07</td>\n",
       "      <td>0</td>\n",
       "    </tr>\n",
       "    <tr>\n",
       "      <th>3</th>\n",
       "      <td>11.835961</td>\n",
       "      <td>17.820702</td>\n",
       "      <td>72.178523</td>\n",
       "      <td>11.260258</td>\n",
       "      <td>44.805167</td>\n",
       "      <td>NaN</td>\n",
       "      <td>12.082749</td>\n",
       "      <td>16.4992370844</td>\n",
       "      <td>65.920413</td>\n",
       "      <td>51</td>\n",
       "      <td>2003-04-14</td>\n",
       "      <td>2005-06-16</td>\n",
       "      <td>1</td>\n",
       "    </tr>\n",
       "    <tr>\n",
       "      <th>4</th>\n",
       "      <td>14.875600</td>\n",
       "      <td>17.534187</td>\n",
       "      <td>98.545830</td>\n",
       "      <td>14.380683</td>\n",
       "      <td>26.190447</td>\n",
       "      <td>89.712492</td>\n",
       "      <td>12.930685</td>\n",
       "      <td>19.8566873539</td>\n",
       "      <td>108.380754</td>\n",
       "      <td>21</td>\n",
       "      <td>2004-06-21</td>\n",
       "      <td>2002-11-27</td>\n",
       "      <td>1</td>\n",
       "    </tr>\n",
       "  </tbody>\n",
       "</table>\n",
       "</div>"
      ],
      "text/plain": [
       "    radius_0  texture_0  perimeter_0   radius_1  texture_1  perimeter_1  \\\n",
       "0  19.858394  27.204437   136.324256  22.683290  32.802578   119.523841   \n",
       "1  14.182069  15.754730    80.916983  14.043753  30.094704    94.911073   \n",
       "2  25.380268  21.291553   152.281062  23.852166  46.237931          NaN   \n",
       "3  11.835961  17.820702    72.178523  11.260258  44.805167          NaN   \n",
       "4  14.875600  17.534187    98.545830  14.380683  26.190447    89.712492   \n",
       "\n",
       "    radius_2      texture_2  perimeter_2  age treatment_date diagnose_date  \\\n",
       "0  21.477052  27.3070874472    82.366936   44     2006-06-03    2005-10-23   \n",
       "1  15.012329  17.8551305385   103.078286   59     2004-02-22    2007-08-20   \n",
       "2  28.563252  21.0971528265   143.367792   37     2006-01-06    2004-08-07   \n",
       "3  12.082749  16.4992370844    65.920413   51     2003-04-14    2005-06-16   \n",
       "4  12.930685  19.8566873539   108.380754   21     2004-06-21    2002-11-27   \n",
       "\n",
       "   cancer_type  \n",
       "0            0  \n",
       "1            1  \n",
       "2            0  \n",
       "3            1  \n",
       "4            1  "
      ]
     },
     "execution_count": 5,
     "metadata": {},
     "output_type": "execute_result"
    }
   ],
   "source": [
    "df_train.head()\n"
   ]
  },
  {
   "cell_type": "code",
   "execution_count": 6,
   "metadata": {},
   "outputs": [
    {
     "data": {
      "text/plain": [
       "(398, 13)"
      ]
     },
     "execution_count": 6,
     "metadata": {},
     "output_type": "execute_result"
    }
   ],
   "source": [
    "df_train.shape\n"
   ]
  },
  {
   "cell_type": "code",
   "execution_count": 7,
   "metadata": {},
   "outputs": [
    {
     "name": "stdout",
     "output_type": "stream",
     "text": [
      "<class 'pandas.core.frame.DataFrame'>\n",
      "RangeIndex: 398 entries, 0 to 397\n",
      "Data columns (total 13 columns):\n",
      " #   Column          Non-Null Count  Dtype  \n",
      "---  ------          --------------  -----  \n",
      " 0   radius_0        398 non-null    float64\n",
      " 1   texture_0       398 non-null    float64\n",
      " 2   perimeter_0     398 non-null    float64\n",
      " 3   radius_1        343 non-null    float64\n",
      " 4   texture_1       398 non-null    float64\n",
      " 5   perimeter_1     264 non-null    float64\n",
      " 6   radius_2        398 non-null    float64\n",
      " 7   texture_2       398 non-null    object \n",
      " 8   perimeter_2     398 non-null    float64\n",
      " 9   age             398 non-null    int64  \n",
      " 10  treatment_date  398 non-null    object \n",
      " 11  diagnose_date   398 non-null    object \n",
      " 12  cancer_type     398 non-null    int64  \n",
      "dtypes: float64(8), int64(2), object(3)\n",
      "memory usage: 40.5+ KB\n"
     ]
    }
   ],
   "source": [
    "df_train.info()\n"
   ]
  },
  {
   "cell_type": "markdown",
   "metadata": {},
   "source": [
    "The possible cancer types might be malignant and benign.\n"
   ]
  },
  {
   "cell_type": "code",
   "execution_count": 8,
   "metadata": {},
   "outputs": [
    {
     "data": {
      "text/plain": [
       "(171, 12)"
      ]
     },
     "execution_count": 8,
     "metadata": {},
     "output_type": "execute_result"
    }
   ],
   "source": [
    "df_test.shape\n"
   ]
  },
  {
   "cell_type": "code",
   "execution_count": 9,
   "metadata": {},
   "outputs": [
    {
     "data": {
      "text/html": [
       "<div>\n",
       "<style scoped>\n",
       "    .dataframe tbody tr th:only-of-type {\n",
       "        vertical-align: middle;\n",
       "    }\n",
       "\n",
       "    .dataframe tbody tr th {\n",
       "        vertical-align: top;\n",
       "    }\n",
       "\n",
       "    .dataframe thead th {\n",
       "        text-align: right;\n",
       "    }\n",
       "</style>\n",
       "<table border=\"1\" class=\"dataframe\">\n",
       "  <thead>\n",
       "    <tr style=\"text-align: right;\">\n",
       "      <th></th>\n",
       "      <th>radius_0</th>\n",
       "      <th>texture_0</th>\n",
       "      <th>perimeter_0</th>\n",
       "      <th>radius_1</th>\n",
       "      <th>texture_1</th>\n",
       "      <th>perimeter_1</th>\n",
       "      <th>radius_2</th>\n",
       "      <th>texture_2</th>\n",
       "      <th>perimeter_2</th>\n",
       "      <th>age</th>\n",
       "      <th>treatment_date</th>\n",
       "      <th>diagnose_date</th>\n",
       "    </tr>\n",
       "  </thead>\n",
       "  <tbody>\n",
       "    <tr>\n",
       "      <th>0</th>\n",
       "      <td>12.567724</td>\n",
       "      <td>13.561447</td>\n",
       "      <td>77.106898</td>\n",
       "      <td>10.773643</td>\n",
       "      <td>45.494416</td>\n",
       "      <td>NaN</td>\n",
       "      <td>12.526989</td>\n",
       "      <td>15.7063580493</td>\n",
       "      <td>123.583682</td>\n",
       "      <td>31</td>\n",
       "      <td>2008-11-19</td>\n",
       "      <td>2003-04-22</td>\n",
       "    </tr>\n",
       "    <tr>\n",
       "      <th>1</th>\n",
       "      <td>11.195949</td>\n",
       "      <td>19.693575</td>\n",
       "      <td>81.244301</td>\n",
       "      <td>15.058411</td>\n",
       "      <td>7.909249</td>\n",
       "      <td>86.766622</td>\n",
       "      <td>13.728960</td>\n",
       "      <td>21.485344712</td>\n",
       "      <td>154.164201</td>\n",
       "      <td>18</td>\n",
       "      <td>2001-08-18</td>\n",
       "      <td>2003-07-07</td>\n",
       "    </tr>\n",
       "    <tr>\n",
       "      <th>2</th>\n",
       "      <td>15.712720</td>\n",
       "      <td>26.114134</td>\n",
       "      <td>90.977022</td>\n",
       "      <td>13.832857</td>\n",
       "      <td>18.086143</td>\n",
       "      <td>NaN</td>\n",
       "      <td>14.758324</td>\n",
       "      <td>27.0205254475</td>\n",
       "      <td>114.023403</td>\n",
       "      <td>43</td>\n",
       "      <td>2006-11-17</td>\n",
       "      <td>2004-03-06</td>\n",
       "    </tr>\n",
       "    <tr>\n",
       "      <th>3</th>\n",
       "      <td>13.428698</td>\n",
       "      <td>26.649458</td>\n",
       "      <td>76.456016</td>\n",
       "      <td>14.837875</td>\n",
       "      <td>6.122950</td>\n",
       "      <td>89.609565</td>\n",
       "      <td>16.279206</td>\n",
       "      <td>29.1837924649</td>\n",
       "      <td>199.756098</td>\n",
       "      <td>57</td>\n",
       "      <td>2001-01-10</td>\n",
       "      <td>2006-02-24</td>\n",
       "    </tr>\n",
       "    <tr>\n",
       "      <th>4</th>\n",
       "      <td>179.763472</td>\n",
       "      <td>14.175435</td>\n",
       "      <td>51.125047</td>\n",
       "      <td>NaN</td>\n",
       "      <td>21.116416</td>\n",
       "      <td>52.041704</td>\n",
       "      <td>9.191477</td>\n",
       "      <td>13.5857306814</td>\n",
       "      <td>74.879232</td>\n",
       "      <td>26</td>\n",
       "      <td>2008-07-12</td>\n",
       "      <td>2004-06-21</td>\n",
       "    </tr>\n",
       "  </tbody>\n",
       "</table>\n",
       "</div>"
      ],
      "text/plain": [
       "     radius_0  texture_0  perimeter_0   radius_1  texture_1  perimeter_1  \\\n",
       "0   12.567724  13.561447    77.106898  10.773643  45.494416          NaN   \n",
       "1   11.195949  19.693575    81.244301  15.058411   7.909249    86.766622   \n",
       "2   15.712720  26.114134    90.977022  13.832857  18.086143          NaN   \n",
       "3   13.428698  26.649458    76.456016  14.837875   6.122950    89.609565   \n",
       "4  179.763472  14.175435    51.125047        NaN  21.116416    52.041704   \n",
       "\n",
       "    radius_2      texture_2  perimeter_2  age treatment_date diagnose_date  \n",
       "0  12.526989  15.7063580493   123.583682   31     2008-11-19    2003-04-22  \n",
       "1  13.728960   21.485344712   154.164201   18     2001-08-18    2003-07-07  \n",
       "2  14.758324  27.0205254475   114.023403   43     2006-11-17    2004-03-06  \n",
       "3  16.279206  29.1837924649   199.756098   57     2001-01-10    2006-02-24  \n",
       "4   9.191477  13.5857306814    74.879232   26     2008-07-12    2004-06-21  "
      ]
     },
     "execution_count": 9,
     "metadata": {},
     "output_type": "execute_result"
    }
   ],
   "source": [
    "df_test.head()\n"
   ]
  },
  {
   "cell_type": "code",
   "execution_count": 10,
   "metadata": {},
   "outputs": [
    {
     "name": "stdout",
     "output_type": "stream",
     "text": [
      "<class 'pandas.core.frame.DataFrame'>\n",
      "RangeIndex: 171 entries, 0 to 170\n",
      "Data columns (total 12 columns):\n",
      " #   Column          Non-Null Count  Dtype  \n",
      "---  ------          --------------  -----  \n",
      " 0   radius_0        171 non-null    float64\n",
      " 1   texture_0       171 non-null    float64\n",
      " 2   perimeter_0     171 non-null    float64\n",
      " 3   radius_1        146 non-null    float64\n",
      " 4   texture_1       171 non-null    float64\n",
      " 5   perimeter_1     105 non-null    float64\n",
      " 6   radius_2        171 non-null    float64\n",
      " 7   texture_2       171 non-null    object \n",
      " 8   perimeter_2     171 non-null    float64\n",
      " 9   age             171 non-null    int64  \n",
      " 10  treatment_date  171 non-null    object \n",
      " 11  diagnose_date   171 non-null    object \n",
      "dtypes: float64(8), int64(1), object(3)\n",
      "memory usage: 16.2+ KB\n"
     ]
    }
   ],
   "source": [
    "df_test.info()\n"
   ]
  },
  {
   "cell_type": "code",
   "execution_count": 11,
   "metadata": {},
   "outputs": [
    {
     "data": {
      "text/plain": [
       "(171, 1)"
      ]
     },
     "execution_count": 11,
     "metadata": {},
     "output_type": "execute_result"
    }
   ],
   "source": [
    "df_sample_submission.shape\n"
   ]
  },
  {
   "cell_type": "code",
   "execution_count": 12,
   "metadata": {},
   "outputs": [
    {
     "name": "stdout",
     "output_type": "stream",
     "text": [
      "<class 'pandas.core.frame.DataFrame'>\n",
      "RangeIndex: 171 entries, 0 to 170\n",
      "Data columns (total 1 columns):\n",
      " #   Column       Non-Null Count  Dtype\n",
      "---  ------       --------------  -----\n",
      " 0   cancer_type  171 non-null    int64\n",
      "dtypes: int64(1)\n",
      "memory usage: 1.5 KB\n"
     ]
    }
   ],
   "source": [
    "df_sample_submission.info()\n"
   ]
  },
  {
   "cell_type": "code",
   "execution_count": 13,
   "metadata": {},
   "outputs": [
    {
     "data": {
      "text/html": [
       "<div>\n",
       "<style scoped>\n",
       "    .dataframe tbody tr th:only-of-type {\n",
       "        vertical-align: middle;\n",
       "    }\n",
       "\n",
       "    .dataframe tbody tr th {\n",
       "        vertical-align: top;\n",
       "    }\n",
       "\n",
       "    .dataframe thead th {\n",
       "        text-align: right;\n",
       "    }\n",
       "</style>\n",
       "<table border=\"1\" class=\"dataframe\">\n",
       "  <thead>\n",
       "    <tr style=\"text-align: right;\">\n",
       "      <th></th>\n",
       "      <th>cancer_type</th>\n",
       "    </tr>\n",
       "  </thead>\n",
       "  <tbody>\n",
       "    <tr>\n",
       "      <th>0</th>\n",
       "      <td>1</td>\n",
       "    </tr>\n",
       "    <tr>\n",
       "      <th>1</th>\n",
       "      <td>1</td>\n",
       "    </tr>\n",
       "    <tr>\n",
       "      <th>2</th>\n",
       "      <td>1</td>\n",
       "    </tr>\n",
       "    <tr>\n",
       "      <th>3</th>\n",
       "      <td>0</td>\n",
       "    </tr>\n",
       "    <tr>\n",
       "      <th>4</th>\n",
       "      <td>1</td>\n",
       "    </tr>\n",
       "  </tbody>\n",
       "</table>\n",
       "</div>"
      ],
      "text/plain": [
       "   cancer_type\n",
       "0            1\n",
       "1            1\n",
       "2            1\n",
       "3            0\n",
       "4            1"
      ]
     },
     "execution_count": 13,
     "metadata": {},
     "output_type": "execute_result"
    }
   ],
   "source": [
    "df_sample_submission.head()\n"
   ]
  },
  {
   "cell_type": "code",
   "execution_count": null,
   "metadata": {},
   "outputs": [],
   "source": []
  },
  {
   "cell_type": "markdown",
   "metadata": {},
   "source": [
    "### Convert treatment_date, diagnose_date into datetime\n"
   ]
  },
  {
   "cell_type": "code",
   "execution_count": 14,
   "metadata": {},
   "outputs": [
    {
     "data": {
      "text/plain": [
       "Index(['radius_0', 'texture_0', 'perimeter_0', 'radius_1', 'texture_1',\n",
       "       'perimeter_1', 'radius_2', 'texture_2', 'perimeter_2', 'age',\n",
       "       'treatment_date', 'diagnose_date', 'cancer_type'],\n",
       "      dtype='object')"
      ]
     },
     "execution_count": 14,
     "metadata": {},
     "output_type": "execute_result"
    }
   ],
   "source": [
    "df_train.columns\n"
   ]
  },
  {
   "cell_type": "code",
   "execution_count": 15,
   "metadata": {},
   "outputs": [],
   "source": [
    "df_train['treatment_date'] = pd.to_datetime(df_train['treatment_date'], format=\"%Y-%m-%d\")\n"
   ]
  },
  {
   "cell_type": "code",
   "execution_count": 16,
   "metadata": {},
   "outputs": [
    {
     "data": {
      "text/plain": [
       "count                     398\n",
       "unique                    371\n",
       "top       2003-04-27 00:00:00\n",
       "freq                        3\n",
       "first     2000-01-19 00:00:00\n",
       "last      2008-11-26 00:00:00\n",
       "Name: treatment_date, dtype: object"
      ]
     },
     "execution_count": 16,
     "metadata": {},
     "output_type": "execute_result"
    }
   ],
   "source": [
    "df_train['treatment_date'].describe()\n"
   ]
  },
  {
   "cell_type": "code",
   "execution_count": 17,
   "metadata": {},
   "outputs": [],
   "source": [
    "df_test['treatment_date'] = pd.to_datetime(df_test['treatment_date'], format=\"%Y-%m-%d\")\n"
   ]
  },
  {
   "cell_type": "code",
   "execution_count": 18,
   "metadata": {},
   "outputs": [
    {
     "data": {
      "text/plain": [
       "count                     171\n",
       "unique                    160\n",
       "top       2005-10-12 00:00:00\n",
       "freq                        3\n",
       "first     2000-01-09 00:00:00\n",
       "last      2008-11-19 00:00:00\n",
       "Name: treatment_date, dtype: object"
      ]
     },
     "execution_count": 18,
     "metadata": {},
     "output_type": "execute_result"
    }
   ],
   "source": [
    "df_test['treatment_date'].describe()\n"
   ]
  },
  {
   "cell_type": "code",
   "execution_count": null,
   "metadata": {},
   "outputs": [],
   "source": []
  },
  {
   "cell_type": "markdown",
   "metadata": {},
   "source": [
    "### Convert texture_2 to float\n"
   ]
  },
  {
   "cell_type": "code",
   "execution_count": null,
   "metadata": {},
   "outputs": [],
   "source": []
  },
  {
   "cell_type": "code",
   "execution_count": null,
   "metadata": {},
   "outputs": [],
   "source": []
  },
  {
   "cell_type": "code",
   "execution_count": null,
   "metadata": {},
   "outputs": [],
   "source": []
  },
  {
   "cell_type": "code",
   "execution_count": null,
   "metadata": {},
   "outputs": [],
   "source": []
  },
  {
   "cell_type": "code",
   "execution_count": null,
   "metadata": {},
   "outputs": [],
   "source": []
  },
  {
   "cell_type": "code",
   "execution_count": null,
   "metadata": {},
   "outputs": [],
   "source": []
  },
  {
   "cell_type": "code",
   "execution_count": null,
   "metadata": {},
   "outputs": [],
   "source": []
  },
  {
   "cell_type": "code",
   "execution_count": null,
   "metadata": {},
   "outputs": [],
   "source": []
  },
  {
   "cell_type": "code",
   "execution_count": null,
   "metadata": {},
   "outputs": [],
   "source": []
  },
  {
   "cell_type": "markdown",
   "metadata": {},
   "source": [
    "# Create a model for predicting the cancer_type\n",
    "\n",
    "\n",
    "\n",
    "- Select an appropriate model and keep its complexity reasonable (number of used features, etc.)\n",
    "    \n",
    "    \n",
    "- I would like you to send me a submission.csv for the cases in test_data.csv at least on hour before the interview that includes the prediction of the cancer_type of your model. The cases should be in the same order as in the test_data.csv and should only contain the label of the predicted cancer_type. See the sample_submission.csv for format clarification.\n",
    "    "
   ]
  },
  {
   "cell_type": "code",
   "execution_count": null,
   "metadata": {},
   "outputs": [],
   "source": []
  },
  {
   "cell_type": "code",
   "execution_count": null,
   "metadata": {},
   "outputs": [],
   "source": []
  },
  {
   "cell_type": "code",
   "execution_count": null,
   "metadata": {},
   "outputs": [],
   "source": []
  },
  {
   "cell_type": "code",
   "execution_count": null,
   "metadata": {},
   "outputs": [],
   "source": []
  },
  {
   "cell_type": "code",
   "execution_count": null,
   "metadata": {},
   "outputs": [],
   "source": []
  },
  {
   "cell_type": "markdown",
   "metadata": {},
   "source": [
    "# Build a regression model for predicting radius_2 based on perimeter_1\n",
    "\n",
    "- the model should be able to quantify its prediction reliability, e.g. density estimates, etc. (please do not just use the outputted R^2 or confidence interval estimates of typical linear regression packages fitting results)\n",
    "\n",
    "\n",
    "\n",
    "- prepare a visualization that illustrates possible prediction uncertainties\n",
    "\n"
   ]
  },
  {
   "cell_type": "code",
   "execution_count": null,
   "metadata": {},
   "outputs": [],
   "source": []
  },
  {
   "cell_type": "code",
   "execution_count": null,
   "metadata": {},
   "outputs": [],
   "source": []
  },
  {
   "cell_type": "code",
   "execution_count": null,
   "metadata": {},
   "outputs": [],
   "source": []
  },
  {
   "cell_type": "code",
   "execution_count": null,
   "metadata": {},
   "outputs": [],
   "source": []
  },
  {
   "cell_type": "code",
   "execution_count": null,
   "metadata": {},
   "outputs": [],
   "source": []
  },
  {
   "cell_type": "code",
   "execution_count": null,
   "metadata": {},
   "outputs": [],
   "source": []
  }
 ],
 "metadata": {
  "kernelspec": {
   "display_name": "Python 3",
   "language": "python",
   "name": "python3"
  },
  "language_info": {
   "codemirror_mode": {
    "name": "ipython",
    "version": 3
   },
   "file_extension": ".py",
   "mimetype": "text/x-python",
   "name": "python",
   "nbconvert_exporter": "python",
   "pygments_lexer": "ipython3",
   "version": "3.7.6"
  },
  "toc": {
   "base_numbering": 1,
   "nav_menu": {},
   "number_sections": true,
   "sideBar": true,
   "skip_h1_title": false,
   "title_cell": "Table of Contents",
   "title_sidebar": "Contents",
   "toc_cell": false,
   "toc_position": {
    "height": "calc(100% - 180px)",
    "left": "10px",
    "top": "150px",
    "width": "213.188px"
   },
   "toc_section_display": true,
   "toc_window_display": true
  }
 },
 "nbformat": 4,
 "nbformat_minor": 4
}
